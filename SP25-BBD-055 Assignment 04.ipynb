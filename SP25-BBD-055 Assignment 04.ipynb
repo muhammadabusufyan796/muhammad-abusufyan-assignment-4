{
 "cells": [
  {
   "cell_type": "code",
   "execution_count": 3,
   "id": "0745e83b-b036-4f2e-9ce7-652b49300378",
   "metadata": {},
   "outputs": [
    {
     "name": "stdout",
     "output_type": "stream",
     "text": [
      "10\n",
      "9\n",
      "8\n",
      "7\n",
      "6\n",
      "5\n",
      "4\n",
      "3\n",
      "2\n",
      "1\n",
      "Loop completed\n"
     ]
    }
   ],
   "source": [
    "#Question No 1\n",
    "num=10\n",
    "while num >= 1:\n",
    "    print(num)\n",
    "    num -= 1\n",
    "print(\"Loop completed\")"
   ]
  },
  {
   "cell_type": "code",
   "execution_count": 4,
   "id": "7db8323f-141f-4f69-8e83-e8412640aee7",
   "metadata": {},
   "outputs": [
    {
     "name": "stdout",
     "output_type": "stream",
     "text": [
      "2\n",
      "4\n",
      "6\n",
      "8\n",
      "10\n",
      "12\n",
      "14\n",
      "16\n",
      "18\n",
      "20\n"
     ]
    }
   ],
   "source": [
    "#Question No 02\n",
    "num=2\n",
    "while num <=20:\n",
    "    print(num)\n",
    "    num +=2"
   ]
  },
  {
   "cell_type": "code",
   "execution_count": 5,
   "id": "cfbbb967-291d-422e-99e1-b14e852f62f1",
   "metadata": {},
   "outputs": [
    {
     "name": "stdin",
     "output_type": "stream",
     "text": [
      "Enter a number:  5\n"
     ]
    },
    {
     "name": "stdout",
     "output_type": "stream",
     "text": [
      "The sum of the first 5 natural numbers is: 15\n"
     ]
    }
   ],
   "source": [
    "#Question NO 03\n",
    "n = int(input(\"Enter a number: \"))\n",
    "sum = 0\n",
    "i = 1\n",
    "while i <= n:\n",
    "    sum += i\n",
    "    i += 1\n",
    "print(\"The sum of the first\", n, \"natural numbers is:\", sum)\n"
   ]
  },
  {
   "cell_type": "code",
   "execution_count": 7,
   "id": "594b0da9-ba9f-459f-b7c1-c45d6d07ba86",
   "metadata": {},
   "outputs": [
    {
     "name": "stdin",
     "output_type": "stream",
     "text": [
      "Enter your num:  5\n"
     ]
    },
    {
     "name": "stdout",
     "output_type": "stream",
     "text": [
      "Thank you!\n"
     ]
    }
   ],
   "source": [
    "#Question No 04\n",
    "while True:\n",
    "    num = int(input(\"Enter your num: \"))\n",
    "    if num >= 0:\n",
    "        print(\"Thank you!\")\n",
    "        break\n",
    "    else:\n",
    "        print(\"Invalid num. Please enter a non-negative number.\")"
   ]
  },
  {
   "cell_type": "code",
   "execution_count": 9,
   "id": "35eff125-eb6e-45e1-967a-d75645872bad",
   "metadata": {},
   "outputs": [
    {
     "name": "stdout",
     "output_type": "stream",
     "text": [
      "D\n",
      "a\n",
      "t\n",
      "a\n"
     ]
    }
   ],
   "source": [
    "#Question No 05\n",
    "s = \"Data\"\n",
    "i = 0\n",
    "\n",
    "while i < len(s):\n",
    "    print(s[i])\n",
    "    i += 1"
   ]
  },
  {
   "cell_type": "code",
   "execution_count": 10,
   "id": "7ce86584-73f8-4b97-a5ca-8c309331c596",
   "metadata": {},
   "outputs": [
    {
     "name": "stdin",
     "output_type": "stream",
     "text": [
      "Enter the password:  sufyan123\n"
     ]
    },
    {
     "name": "stdout",
     "output_type": "stream",
     "text": [
      "Incorrect password. Please try again.\n"
     ]
    },
    {
     "name": "stdin",
     "output_type": "stream",
     "text": [
      "Enter the password:  malik111\n"
     ]
    },
    {
     "name": "stdout",
     "output_type": "stream",
     "text": [
      "Incorrect password. Please try again.\n"
     ]
    },
    {
     "name": "stdin",
     "output_type": "stream",
     "text": [
      "Enter the password:  analytics123\n"
     ]
    },
    {
     "name": "stdout",
     "output_type": "stream",
     "text": [
      "Access granted.\n"
     ]
    }
   ],
   "source": [
    "#Question no 06\n",
    "correct_password = \"analytics123\"\n",
    "\n",
    "while True:\n",
    "    entered_password = input(\"Enter the password: \")\n",
    "    if entered_password == correct_password:\n",
    "        print(\"Access granted.\")\n",
    "        break\n",
    "    else:\n",
    "        print(\"Incorrect password. Please try again.\")"
   ]
  },
  {
   "cell_type": "code",
   "execution_count": 11,
   "id": "fbd70e91-55ac-40f4-9bff-c9c3375e6d56",
   "metadata": {},
   "outputs": [
    {
     "name": "stdin",
     "output_type": "stream",
     "text": [
      "Guess the secret number:  5\n"
     ]
    },
    {
     "name": "stdout",
     "output_type": "stream",
     "text": [
      "Too low. Try again.\n"
     ]
    },
    {
     "name": "stdin",
     "output_type": "stream",
     "text": [
      "Guess the secret number:  8\n"
     ]
    },
    {
     "name": "stdout",
     "output_type": "stream",
     "text": [
      "Too high. Try again.\n"
     ]
    },
    {
     "name": "stdin",
     "output_type": "stream",
     "text": [
      "Guess the secret number:  7\n"
     ]
    },
    {
     "name": "stdout",
     "output_type": "stream",
     "text": [
      "Congratulations! You guessed it right.\n"
     ]
    }
   ],
   "source": [
    "#Question No 07\n",
    "secret_number = 7\n",
    "\n",
    "while True:\n",
    "    try:\n",
    "        guess = int(input(\"Guess the secret number: \"))\n",
    "        if guess == secret_number:\n",
    "            print(\"Congratulations! You guessed it right.\")\n",
    "            break\n",
    "        elif guess < secret_number:\n",
    "            print(\"Too low. Try again.\")\n",
    "        else:\n",
    "            print(\"Too high. Try again.\")\n",
    "    except ValueError:\n",
    "        print(\"Please enter a valid number.\")"
   ]
  },
  {
   "cell_type": "code",
   "execution_count": 12,
   "id": "4ebaea0b-7b92-42e5-86a0-854cab6974f8",
   "metadata": {},
   "outputs": [
    {
     "name": "stdin",
     "output_type": "stream",
     "text": [
      "Enter a positive integer:  12345\n"
     ]
    },
    {
     "name": "stdout",
     "output_type": "stream",
     "text": [
      "12345 has 5 digits.\n"
     ]
    }
   ],
   "source": [
    "# Question no 08\n",
    "num = int(input(\"Enter a positive integer: \"))\n",
    "while num <= 0:\n",
    "    print(\"Please enter a positive integer.\")\n",
    "    num = int(input(\"Enter a positive integer: \"))\n",
    "count = 0\n",
    "temp = num\n",
    "while temp > 0:\n",
    "    temp = temp // 10\n",
    "    count += 1\n",
    "print(f\"{num} has {count} digits.\")\n"
   ]
  },
  {
   "cell_type": "code",
   "execution_count": 13,
   "id": "531b7c5a-7d5f-4142-acc5-54b3a9c6c642",
   "metadata": {},
   "outputs": [
    {
     "name": "stdin",
     "output_type": "stream",
     "text": [
      "Enter a number:  9\n"
     ]
    },
    {
     "name": "stdout",
     "output_type": "stream",
     "text": [
      "9 x 1 = 9\n",
      "9 x 2 = 18\n",
      "9 x 3 = 27\n",
      "9 x 4 = 36\n",
      "9 x 5 = 45\n",
      "9 x 6 = 54\n",
      "9 x 7 = 63\n",
      "9 x 8 = 72\n",
      "9 x 9 = 81\n",
      "9 x 10 = 90\n"
     ]
    }
   ],
   "source": [
    "# Question no 09\n",
    "num = int(input(\"Enter a number: \"))\n",
    "i = 1\n",
    "while i <= 10:\n",
    "    print(f\"{num} x {i} = {num * i}\")\n",
    "    i += 1"
   ]
  },
  {
   "cell_type": "code",
   "execution_count": 14,
   "id": "ef7e28c6-d895-4a6e-98ce-cf245eedbc53",
   "metadata": {},
   "outputs": [
    {
     "name": "stdin",
     "output_type": "stream",
     "text": [
      "Enter a number (-1 to stop):  11\n",
      "Enter a number (-1 to stop):  3\n",
      "Enter a number (-1 to stop):  10\n",
      "Enter a number (-1 to stop):  -1\n"
     ]
    },
    {
     "name": "stdout",
     "output_type": "stream",
     "text": [
      "The average of the entered numbers is: 8.0\n"
     ]
    }
   ],
   "source": [
    "#Queestion no 10\n",
    "total = 0\n",
    "count = 0\n",
    "num = int(input(\"Enter a number (-1 to stop): \"))\n",
    "\n",
    "while num != -1:\n",
    "    total += num\n",
    "    count += 1\n",
    "    num = int(input(\"Enter a number (-1 to stop): \"))\n",
    "if count > 0:\n",
    "    average = total / count\n",
    "    print(f\"The average of the entered numbers is: {average}\")\n",
    "else:\n",
    "    print(\"No numbers were entered.\")"
   ]
  },
  {
   "cell_type": "code",
   "execution_count": null,
   "id": "60d16956-bd40-46d2-b1a9-ad2bd015e71e",
   "metadata": {},
   "outputs": [],
   "source": []
  }
 ],
 "metadata": {
  "kernelspec": {
   "display_name": "Python 3 (ipykernel)",
   "language": "python",
   "name": "python3"
  },
  "language_info": {
   "codemirror_mode": {
    "name": "ipython",
    "version": 3
   },
   "file_extension": ".py",
   "mimetype": "text/x-python",
   "name": "python",
   "nbconvert_exporter": "python",
   "pygments_lexer": "ipython3",
   "version": "3.12.4"
  }
 },
 "nbformat": 4,
 "nbformat_minor": 5
}
